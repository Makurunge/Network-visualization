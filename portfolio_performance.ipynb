{
  "nbformat": 4,
  "nbformat_minor": 0,
  "metadata": {
    "kernelspec": {
      "display_name": "Python 3",
      "language": "python",
      "name": "python3"
    },
    "language_info": {
      "codemirror_mode": {
        "name": "ipython",
        "version": 3
      },
      "file_extension": ".py",
      "mimetype": "text/x-python",
      "name": "python",
      "nbconvert_exporter": "python",
      "pygments_lexer": "ipython3",
      "version": "3.7.4"
    },
    "colab": {
      "name": "portfolio_performance.ipynb",
      "provenance": []
    }
  },
  "cells": [
    {
      "cell_type": "code",
      "metadata": {
        "id": "cyUUFsMqlGPz"
      },
      "source": [
        "# Import libraries\n",
        "\n",
        "import numpy as np\n",
        "import pandas as pd\n",
        "import seaborn as sns\n",
        "import matplotlib.pyplot as plt\n",
        "from scipy.stats import norm\n",
        "from random import gauss, seed\n",
        "from math import sqrt, exp"
      ],
      "execution_count": null,
      "outputs": []
    },
    {
      "cell_type": "code",
      "metadata": {
        "id": "mYb0NQdYlGP1"
      },
      "source": [
        "# Stock price simulator\n",
        "\n",
        "# mu = 0.001\n",
        "# sigma = 0.01\n",
        "# start_price = 100\n",
        "\n",
        "# np.random.seed(0)\n",
        "# returns = np.random.normal(loc=mu, scale=sigma, size=252)\n",
        "# price = start_price*(1+returns).cumprod()\n",
        "\n",
        "\n",
        "def generate_price(s0, mu, sigma):\n",
        "    \n",
        "    np.random.seed(1234)\n",
        "    returns = np.random.normal(loc=mu, scale=sigma, size=30)\n",
        "    price = s0*(1+returns).cumprod()\n",
        "   \n",
        "    return price\n"
      ],
      "execution_count": null,
      "outputs": []
    },
    {
      "cell_type": "code",
      "metadata": {
        "colab": {
          "base_uri": "https://localhost:8080/",
          "height": 284
        },
        "id": "mc4_HP2HlGP2",
        "outputId": "110633fb-770b-4218-f51f-b32f6ae74575"
      },
      "source": [
        "# plt.plot(price)\n",
        "price = generate_price(100, 0.001, 0.01)\n",
        "plt.plot(price)"
      ],
      "execution_count": null,
      "outputs": [
        {
          "output_type": "execute_result",
          "data": {
            "text/plain": [
              "[<matplotlib.lines.Line2D at 0x7efc0d710b50>]"
            ]
          },
          "metadata": {},
          "execution_count": 4
        },
        {
          "output_type": "display_data",
          "data": {
            "image/png": "[encoded data removed]",
            "text/plain": [
              "<Figure size 432x288 with 1 Axes>"
            ]
          },
          "metadata": {
            "needs_background": "light"
          }
        }
      ]
    },
    {
      "cell_type": "code",
      "metadata": {
        "id": "N0Dmpyq2lGP3"
      },
      "source": [
        "# size = 252  \n",
        "df = pd.DataFrame(columns=['A', 'B', 'C', 'D', 'E', 'F', 'G', 'H'])\n",
        "df['A'] = generate_price(100, 0.001, 0.01) \n",
        "df['B'] = generate_price(150, 0.001, 0.01) \n",
        "df['C'] = generate_price(50, 0.001, 0.01) \n",
        "df['D'] = generate_price(200, 0.001, 0.01) \n",
        "df['E'] = generate_price(120, 0.001, 0.01) \n",
        "df['F'] = generate_price(90, 0.001, 0.01) \n",
        "df['G'] = generate_price(60, 0.001, 0.01) \n",
        "df['H'] = generate_price(40, 0.001, 0.01) "
      ],
      "execution_count": null,
      "outputs": []
    },
    {
      "cell_type": "code",
      "metadata": {
        "colab": {
          "base_uri": "https://localhost:8080/",
          "height": 206
        },
        "id": "6UFsszRJlGP3",
        "outputId": "560897a9-a145-490f-9161-cab9f981222b"
      },
      "source": [
        "df.head()"
      ],
      "execution_count": null,
      "outputs": [
        {
          "output_type": "execute_result",
          "data": {
            "text/html": [
              "<div>\n",
              "<style scoped>\n",
              "    .dataframe tbody tr th:only-of-type {\n",
              "        vertical-align: middle;\n",
              "    }\n",
              "\n",
              "    .dataframe tbody tr th {\n",
              "        vertical-align: top;\n",
              "    }\n",
              "\n",
              "    .dataframe thead th {\n",
              "        text-align: right;\n",
              "    }\n",
              "</style>\n",
              "<table border=\"1\" class=\"dataframe\">\n",
              "  <thead>\n",
              "    <tr style=\"text-align: right;\">\n",
              "      <th></th>\n",
              "      <th>A</th>\n",
              "      <th>B</th>\n",
              "      <th>C</th>\n",
              "      <th>D</th>\n",
              "      <th>E</th>\n",
              "      <th>F</th>\n",
              "      <th>G</th>\n",
              "      <th>H</th>\n",
              "    </tr>\n",
              "  </thead>\n",
              "  <tbody>\n",
              "    <tr>\n",
              "      <th>0</th>\n",
              "      <td>100.571435</td>\n",
              "      <td>150.857153</td>\n",
              "      <td>50.285718</td>\n",
              "      <td>201.142870</td>\n",
              "      <td>120.685722</td>\n",
              "      <td>90.514292</td>\n",
              "      <td>60.342861</td>\n",
              "      <td>40.228574</td>\n",
              "    </tr>\n",
              "    <tr>\n",
              "      <th>1</th>\n",
              "      <td>99.474225</td>\n",
              "      <td>149.211338</td>\n",
              "      <td>49.737113</td>\n",
              "      <td>198.948451</td>\n",
              "      <td>119.369070</td>\n",
              "      <td>89.526803</td>\n",
              "      <td>59.684535</td>\n",
              "      <td>39.789690</td>\n",
              "    </tr>\n",
              "    <tr>\n",
              "      <th>2</th>\n",
              "      <td>100.998874</td>\n",
              "      <td>151.498310</td>\n",
              "      <td>50.499437</td>\n",
              "      <td>201.997747</td>\n",
              "      <td>121.198648</td>\n",
              "      <td>90.898986</td>\n",
              "      <td>60.599324</td>\n",
              "      <td>40.399549</td>\n",
              "    </tr>\n",
              "    <tr>\n",
              "      <th>3</th>\n",
              "      <td>100.784098</td>\n",
              "      <td>151.176146</td>\n",
              "      <td>50.392049</td>\n",
              "      <td>201.568195</td>\n",
              "      <td>120.940917</td>\n",
              "      <td>90.705688</td>\n",
              "      <td>60.470459</td>\n",
              "      <td>40.313639</td>\n",
              "    </tr>\n",
              "    <tr>\n",
              "      <th>4</th>\n",
              "      <td>100.158643</td>\n",
              "      <td>150.237964</td>\n",
              "      <td>50.079321</td>\n",
              "      <td>200.317286</td>\n",
              "      <td>120.190371</td>\n",
              "      <td>90.142779</td>\n",
              "      <td>60.095186</td>\n",
              "      <td>40.063457</td>\n",
              "    </tr>\n",
              "  </tbody>\n",
              "</table>\n",
              "</div>"
            ],
            "text/plain": [
              "            A           B          C  ...          F          G          H\n",
              "0  100.571435  150.857153  50.285718  ...  90.514292  60.342861  40.228574\n",
              "1   99.474225  149.211338  49.737113  ...  89.526803  59.684535  39.789690\n",
              "2  100.998874  151.498310  50.499437  ...  90.898986  60.599324  40.399549\n",
              "3  100.784098  151.176146  50.392049  ...  90.705688  60.470459  40.313639\n",
              "4  100.158643  150.237964  50.079321  ...  90.142779  60.095186  40.063457\n",
              "\n",
              "[5 rows x 8 columns]"
            ]
          },
          "metadata": {},
          "execution_count": 6
        }
      ]
    },
    {
      "cell_type": "code",
      "metadata": {
        "colab": {
          "base_uri": "https://localhost:8080/"
        },
        "id": "UFnQTEfglGP5",
        "outputId": "02975092-96ea-458f-c8f3-502ee11fde3a"
      },
      "source": [
        "print(df.dtypes)"
      ],
      "execution_count": null,
      "outputs": [
        {
          "output_type": "stream",
          "text": [
            "A    float64\n",
            "B    float64\n",
            "C    float64\n",
            "D    float64\n",
            "E    float64\n",
            "F    float64\n",
            "G    float64\n",
            "H    float64\n",
            "dtype: object\n"
          ],
          "name": "stdout"
        }
      ]
    },
    {
      "cell_type": "code",
      "metadata": {
        "id": "PiI7DVUdlGP5"
      },
      "source": [
        "price_close = df.values # convert to numpy array"
      ],
      "execution_count": null,
      "outputs": []
    },
    {
      "cell_type": "code",
      "metadata": {
        "id": "Nm8zOT5mlGP5"
      },
      "source": [
        "mst = ['A', 'B', 'C', 'D']\n",
        "portfolio_mst = [name for name in mst] # [name for name in mst.index.values]"
      ],
      "execution_count": null,
      "outputs": []
    },
    {
      "cell_type": "code",
      "metadata": {
        "colab": {
          "base_uri": "https://localhost:8080/"
        },
        "id": "v3r9koY8lGP6",
        "outputId": "d14ad55c-a503-4219-965e-0b8a60fc87c9"
      },
      "source": [
        "print(portfolio_mst)"
      ],
      "execution_count": null,
      "outputs": [
        {
          "output_type": "stream",
          "text": [
            "['A', 'B', 'C', 'D']\n"
          ],
          "name": "stdout"
        }
      ]
    },
    {
      "cell_type": "code",
      "metadata": {
        "id": "8TRJYKQSlGP7"
      },
      "source": [
        "pmfg = ['E', 'F', 'G', 'H']\n",
        "\n",
        "portfolio_pmfg = [name for name in pmfg]"
      ],
      "execution_count": null,
      "outputs": []
    },
    {
      "cell_type": "code",
      "metadata": {
        "id": "3Tls9etxlGP7"
      },
      "source": [
        "# Portfolio performance for MST\n",
        "# Assume you invest R1 000 000 on the portfolio on 2021-07-16 and keep the portfolio for 30days\n",
        "\n",
        "amount = 1000000\n",
        "portfolio_price = pd.DataFrame()\n",
        "for c in portfolio_mst:\n",
        "      portfolio_price[c] = df[c]\n",
        "        \n",
        "portfolio_unit = portfolio_price.sum(axis=1)[0]\n",
        "share = amount/portfolio_unit\n",
        "mst_portfolio_value = portfolio_price.sum(axis=1)*share"
      ],
      "execution_count": null,
      "outputs": []
    },
    {
      "cell_type": "code",
      "metadata": {
        "colab": {
          "base_uri": "https://localhost:8080/",
          "height": 206
        },
        "id": "sfmqgzPzlGP8",
        "outputId": "8168d54e-c41f-449b-cd94-b7f46a7691a2"
      },
      "source": [
        "portfolio_price.head()"
      ],
      "execution_count": null,
      "outputs": [
        {
          "output_type": "execute_result",
          "data": {
            "text/html": [
              "<div>\n",
              "<style scoped>\n",
              "    .dataframe tbody tr th:only-of-type {\n",
              "        vertical-align: middle;\n",
              "    }\n",
              "\n",
              "    .dataframe tbody tr th {\n",
              "        vertical-align: top;\n",
              "    }\n",
              "\n",
              "    .dataframe thead th {\n",
              "        text-align: right;\n",
              "    }\n",
              "</style>\n",
              "<table border=\"1\" class=\"dataframe\">\n",
              "  <thead>\n",
              "    <tr style=\"text-align: right;\">\n",
              "      <th></th>\n",
              "      <th>A</th>\n",
              "      <th>B</th>\n",
              "      <th>C</th>\n",
              "      <th>D</th>\n",
              "    </tr>\n",
              "  </thead>\n",
              "  <tbody>\n",
              "    <tr>\n",
              "      <th>0</th>\n",
              "      <td>100.571435</td>\n",
              "      <td>150.857153</td>\n",
              "      <td>50.285718</td>\n",
              "      <td>201.142870</td>\n",
              "    </tr>\n",
              "    <tr>\n",
              "      <th>1</th>\n",
              "      <td>99.474225</td>\n",
              "      <td>149.211338</td>\n",
              "      <td>49.737113</td>\n",
              "      <td>198.948451</td>\n",
              "    </tr>\n",
              "    <tr>\n",
              "      <th>2</th>\n",
              "      <td>100.998874</td>\n",
              "      <td>151.498310</td>\n",
              "      <td>50.499437</td>\n",
              "      <td>201.997747</td>\n",
              "    </tr>\n",
              "    <tr>\n",
              "      <th>3</th>\n",
              "      <td>100.784098</td>\n",
              "      <td>151.176146</td>\n",
              "      <td>50.392049</td>\n",
              "      <td>201.568195</td>\n",
              "    </tr>\n",
              "    <tr>\n",
              "      <th>4</th>\n",
              "      <td>100.158643</td>\n",
              "      <td>150.237964</td>\n",
              "      <td>50.079321</td>\n",
              "      <td>200.317286</td>\n",
              "    </tr>\n",
              "  </tbody>\n",
              "</table>\n",
              "</div>"
            ],
            "text/plain": [
              "            A           B          C           D\n",
              "0  100.571435  150.857153  50.285718  201.142870\n",
              "1   99.474225  149.211338  49.737113  198.948451\n",
              "2  100.998874  151.498310  50.499437  201.997747\n",
              "3  100.784098  151.176146  50.392049  201.568195\n",
              "4  100.158643  150.237964  50.079321  200.317286"
            ]
          },
          "metadata": {},
          "execution_count": 13
        }
      ]
    },
    {
      "cell_type": "code",
      "metadata": {
        "colab": {
          "base_uri": "https://localhost:8080/"
        },
        "id": "bcJOHvUrlGP8",
        "outputId": "98e26576-fdb2-4d79-9e6a-1981228b82f1"
      },
      "source": [
        "mst_portfolio_value.head()"
      ],
      "execution_count": null,
      "outputs": [
        {
          "output_type": "execute_result",
          "data": {
            "text/plain": [
              "0    1.000000e+06\n",
              "1    9.890902e+05\n",
              "2    1.004250e+06\n",
              "3    1.002115e+06\n",
              "4    9.958955e+05\n",
              "dtype: float64"
            ]
          },
          "metadata": {},
          "execution_count": 14
        }
      ]
    },
    {
      "cell_type": "code",
      "metadata": {
        "id": "53QxbN2MlGP9"
      },
      "source": [
        "# Portfolio performance for PMFG\n",
        "# Assume you invest R1 000 000 on the portfolio from 16 january\n",
        " 2020 to 16 july 2021\n",
        "\n",
        "\n",
        "amount = 1000000\n",
        "pportfolio_price = pd.DataFrame()\n",
        "for c in portfolio_pmfg:\n",
        "      pportfolio_price[c] = df[c]\n",
        "        \n",
        "pportfolio_unit = pportfolio_price.sum(axis=1)[0]\n",
        "sshare = amount/pportfolio_unit\n",
        "pmfg_portfolio_value = pportfolio_price.sum(axis=1)*share"
      ],
      "execution_count": null,
      "outputs": []
    },
    {
      "cell_type": "code",
      "metadata": {
        "colab": {
          "base_uri": "https://localhost:8080/",
          "height": 206
        },
        "id": "fcsBrpxulGP9",
        "outputId": "5bd59ffd-9c29-4dfd-b14e-49bcd8bacd77"
      },
      "source": [
        "pportfolio_price.head()"
      ],
      "execution_count": null,
      "outputs": [
        {
          "output_type": "execute_result",
          "data": {
            "text/html": [
              "<div>\n",
              "<style scoped>\n",
              "    .dataframe tbody tr th:only-of-type {\n",
              "        vertical-align: middle;\n",
              "    }\n",
              "\n",
              "    .dataframe tbody tr th {\n",
              "        vertical-align: top;\n",
              "    }\n",
              "\n",
              "    .dataframe thead th {\n",
              "        text-align: right;\n",
              "    }\n",
              "</style>\n",
              "<table border=\"1\" class=\"dataframe\">\n",
              "  <thead>\n",
              "    <tr style=\"text-align: right;\">\n",
              "      <th></th>\n",
              "      <th>E</th>\n",
              "      <th>F</th>\n",
              "      <th>G</th>\n",
              "      <th>H</th>\n",
              "    </tr>\n",
              "  </thead>\n",
              "  <tbody>\n",
              "    <tr>\n",
              "      <th>0</th>\n",
              "      <td>120.685722</td>\n",
              "      <td>90.514292</td>\n",
              "      <td>60.342861</td>\n",
              "      <td>40.228574</td>\n",
              "    </tr>\n",
              "    <tr>\n",
              "      <th>1</th>\n",
              "      <td>119.369070</td>\n",
              "      <td>89.526803</td>\n",
              "      <td>59.684535</td>\n",
              "      <td>39.789690</td>\n",
              "    </tr>\n",
              "    <tr>\n",
              "      <th>2</th>\n",
              "      <td>121.198648</td>\n",
              "      <td>90.898986</td>\n",
              "      <td>60.599324</td>\n",
              "      <td>40.399549</td>\n",
              "    </tr>\n",
              "    <tr>\n",
              "      <th>3</th>\n",
              "      <td>120.940917</td>\n",
              "      <td>90.705688</td>\n",
              "      <td>60.470459</td>\n",
              "      <td>40.313639</td>\n",
              "    </tr>\n",
              "    <tr>\n",
              "      <th>4</th>\n",
              "      <td>120.190371</td>\n",
              "      <td>90.142779</td>\n",
              "      <td>60.095186</td>\n",
              "      <td>40.063457</td>\n",
              "    </tr>\n",
              "  </tbody>\n",
              "</table>\n",
              "</div>"
            ],
            "text/plain": [
              "            E          F          G          H\n",
              "0  120.685722  90.514292  60.342861  40.228574\n",
              "1  119.369070  89.526803  59.684535  39.789690\n",
              "2  121.198648  90.898986  60.599324  40.399549\n",
              "3  120.940917  90.705688  60.470459  40.313639\n",
              "4  120.190371  90.142779  60.095186  40.063457"
            ]
          },
          "metadata": {},
          "execution_count": 16
        }
      ]
    },
    {
      "cell_type": "code",
      "metadata": {
        "colab": {
          "base_uri": "https://localhost:8080/"
        },
        "id": "kzO_XTfblGP9",
        "outputId": "0efec8ff-2198-4b26-d8de-5115fe3c58ea"
      },
      "source": [
        "pmfg_portfolio_value.head()"
      ],
      "execution_count": null,
      "outputs": [
        {
          "output_type": "execute_result",
          "data": {
            "text/plain": [
              "0    620000.000000\n",
              "1    613235.950693\n",
              "2    622635.060842\n",
              "3    621311.015579\n",
              "4    617455.229418\n",
              "dtype: float64"
            ]
          },
          "metadata": {},
          "execution_count": 17
        }
      ]
    },
    {
      "cell_type": "code",
      "metadata": {
        "id": "QfxhVG9blGP-"
      },
      "source": [
        "# # Assume invest R1 000 000 on the portfolio from 16 january 2020 to 16 july 2021\n",
        "# mst_portfolio_value = portfolio_value(1000000, portfolio_mst)\n"
      ],
      "execution_count": null,
      "outputs": []
    },
    {
      "cell_type": "code",
      "metadata": {
        "colab": {
          "base_uri": "https://localhost:8080/"
        },
        "id": "HwIQWVlPlGP-",
        "outputId": "36555c9c-dfec-478b-a43f-b101b4c7c51d"
      },
      "source": [
        "mst_portfolio_value.head()"
      ],
      "execution_count": null,
      "outputs": [
        {
          "output_type": "execute_result",
          "data": {
            "text/plain": [
              "0    1.000000e+06\n",
              "1    9.890902e+05\n",
              "2    1.004250e+06\n",
              "3    1.002115e+06\n",
              "4    9.958955e+05\n",
              "dtype: float64"
            ]
          },
          "metadata": {},
          "execution_count": 20
        }
      ]
    },
    {
      "cell_type": "code",
      "metadata": {
        "id": "VdlbRmfdlGP-"
      },
      "source": [
        "# # Assume invest R1 000 000 on the portfolio \n",
        "# pmfg_portfolio_value = portfolio_value(1000000, portfolio_pmfg)"
      ],
      "execution_count": null,
      "outputs": []
    },
    {
      "cell_type": "code",
      "metadata": {
        "colab": {
          "base_uri": "https://localhost:8080/"
        },
        "id": "lCMB_LQjlGP-",
        "outputId": "19b436d1-d481-48d1-f0d0-fa10dcdb2399"
      },
      "source": [
        "pmfg_portfolio_value.head()"
      ],
      "execution_count": null,
      "outputs": [
        {
          "output_type": "execute_result",
          "data": {
            "text/plain": [
              "0    620000.000000\n",
              "1    613235.950693\n",
              "2    622635.060842\n",
              "3    621311.015579\n",
              "4    617455.229418\n",
              "dtype: float64"
            ]
          },
          "metadata": {},
          "execution_count": 22
        }
      ]
    },
    {
      "cell_type": "code",
      "metadata": {
        "colab": {
          "base_uri": "https://localhost:8080/",
          "height": 458
        },
        "id": "7fvDMCXAlGP_",
        "outputId": "b95d1de1-0797-4248-fd87-97bbe349c0a1"
      },
      "source": [
        "x = range(30)\n",
        "fig, ax = plt.subplots(figsize = (10,7))\n",
        "line1, = ax.plot(x, mst_portfolio_value, label='PMFG Portfolio')\n",
        "line2, = ax.plot(x, pmfg_portfolio_value, label = 'MST Portfolio' )\n",
        "ax.set_title('Simulated Performance of Portfolios')\n",
        "ax.legend(loc='upper left')\n",
        "plt.xlabel('Day counts')\n",
        "# Set the y axis label of the current axis.\n",
        "plt.ylabel('Portfolio value in Rand')\n",
        "plt.savefig('performance of portfolio.png')\n",
        "plt.show()"
      ],
      "execution_count": null,
      "outputs": [
        {
          "output_type": "display_data",
          "data": {
            "image/png": "[encoded data removed]",
            "text/plain": [
              "<Figure size 720x504 with 1 Axes>"
            ]
          },
          "metadata": {
            "needs_background": "light"
          }
        }
      ]
    },
    {
      "cell_type": "code",
      "metadata": {
        "id": "H6nQ00EclGP_"
      },
      "source": [
        "plt.xlabel('x - axis')\n",
        "# Set the y axis label of the current axis.\n",
        "plt.ylabel('y - axis')"
      ],
      "execution_count": null,
      "outputs": []
    }
  ]
}